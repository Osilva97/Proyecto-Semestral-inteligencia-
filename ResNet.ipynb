{
  "nbformat": 4,
  "nbformat_minor": 0,
  "metadata": {
    "accelerator": "GPU",
    "colab": {
      "name": "ResNet.ipynb",
      "provenance": [],
      "collapsed_sections": []
    },
    "kernelspec": {
      "display_name": "Python 3",
      "name": "python3"
    },
    "language_info": {
      "name": "python"
    }
  },
  "cells": [
    {
      "cell_type": "code",
      "metadata": {
        "id": "ztbBIjR8QSHY"
      },
      "source": [
        "import numpy as np\n",
        "import pandas as pd\n",
        "import matplotlib.pyplot as plt\n",
        "import tensorflow as tf\n",
        "import keras\n",
        "from tensorflow.keras import datasets,models,layers"
      ],
      "execution_count": null,
      "outputs": []
    },
    {
      "cell_type": "code",
      "metadata": {
        "colab": {
          "base_uri": "https://localhost:8080/"
        },
        "id": "aNyN-WYFQbZq",
        "outputId": "afbc5356-c229-43ba-bb99-16da5f4626c4"
      },
      "source": [
        "from keras.datasets import cifar10\n",
        "(X_train, Y_train), (X_test, Y_test) = cifar10.load_data()"
      ],
      "execution_count": null,
      "outputs": [
        {
          "output_type": "stream",
          "name": "stdout",
          "text": [
            "Downloading data from https://www.cs.toronto.edu/~kriz/cifar-10-python.tar.gz\n",
            "170500096/170498071 [==============================] - 2s 0us/step\n",
            "170508288/170498071 [==============================] - 2s 0us/step\n"
          ]
        }
      ]
    },
    {
      "cell_type": "code",
      "metadata": {
        "colab": {
          "base_uri": "https://localhost:8080/",
          "height": 283
        },
        "id": "9-AyIS2bQcIB",
        "outputId": "378cdc4a-52fb-41a2-9614-0e4d419539d2"
      },
      "source": [
        "plt.imshow(X_train[42])"
      ],
      "execution_count": null,
      "outputs": [
        {
          "output_type": "execute_result",
          "data": {
            "text/plain": [
              "<matplotlib.image.AxesImage at 0x7f1ca978f310>"
            ]
          },
          "metadata": {},
          "execution_count": 3
        },
        {
          "output_type": "display_data",
          "data": {
            "image/png": "[encoded data removed]",
            "text/plain": [
              "<Figure size 432x288 with 1 Axes>"
            ]
          },
          "metadata": {
            "needs_background": "light"
          }
        }
      ]
    },
    {
      "cell_type": "code",
      "metadata": {
        "id": "PBk1V6qQQejm"
      },
      "source": [
        "X_train = X_train.astype('float32')\n",
        "X_test = X_test.astype('float32')\n",
        "X_train /= 255.0\n",
        "X_test /= 255.0"
      ],
      "execution_count": null,
      "outputs": []
    },
    {
      "cell_type": "code",
      "metadata": {
        "id": "OwT4fZ1PQhkh"
      },
      "source": [
        "from sklearn.model_selection import train_test_split\n",
        "X_train, X_val, Y_train, Y_val = train_test_split(X_train, Y_train, test_size = 0.2,shuffle = True)"
      ],
      "execution_count": null,
      "outputs": []
    },
    {
      "cell_type": "code",
      "metadata": {
        "id": "HrNOv_0NQmCK"
      },
      "source": [
        "from sklearn.preprocessing import OneHotEncoder\n",
        "encoder = OneHotEncoder()\n",
        "encoder.fit(Y_train)\n",
        "Y_train = encoder.transform(Y_train).toarray()\n",
        "Y_test = encoder.transform(Y_test).toarray()\n",
        "Y_val =  encoder.transform(Y_val).toarray()"
      ],
      "execution_count": null,
      "outputs": []
    },
    {
      "cell_type": "code",
      "metadata": {
        "id": "UQ2jByCSQpN9"
      },
      "source": [
        "from keras.preprocessing.image import ImageDataGenerator\n",
        "aug = ImageDataGenerator(horizontal_flip=True, width_shift_range=0.05,\n",
        "                             height_shift_range=0.05)\n",
        "aug.fit(X_train)"
      ],
      "execution_count": null,
      "outputs": []
    },
    {
      "cell_type": "markdown",
      "metadata": {
        "id": "Q8ItEcGIQs8x"
      },
      "source": [
        "Implementacion de la ResNet 18"
      ]
    },
    {
      "cell_type": "code",
      "metadata": {
        "id": "qeFKqlfXQsTD"
      },
      "source": [
        "from keras.callbacks import EarlyStopping\n",
        "from keras.layers import Dense, Conv2D,  MaxPool2D, Flatten, GlobalAveragePooling2D,  BatchNormalization, Layer, Add\n",
        "from keras.models import Sequential\n",
        "from keras.models import Model\n",
        "import tensorflow as tf\n"
      ],
      "execution_count": null,
      "outputs": []
    },
    {
      "cell_type": "code",
      "metadata": {
        "id": "Wf_1zuCIQ-Q3"
      },
      "source": [
        "class ResnetBlock(Model):\n",
        "    \"\"\"\n",
        "    A standard resnet block.\n",
        "    \"\"\"\n",
        "\n",
        "    def __init__(self, channels: int, down_sample=False):\n",
        "        \"\"\"\n",
        "        channels: same as number of convolution kernels\n",
        "        \"\"\"\n",
        "        super().__init__()\n",
        "\n",
        "        self.__channels = channels\n",
        "        self.__down_sample = down_sample\n",
        "        self.__strides = [2, 1] if down_sample else [1, 1]\n",
        "\n",
        "        KERNEL_SIZE = (3, 3)\n",
        "        # use He initialization, instead of Xavier (a.k.a 'glorot_uniform' in Keras), as suggested in [2]\n",
        "        INIT_SCHEME = \"he_normal\"\n",
        "\n",
        "        self.conv_1 = Conv2D(self.__channels, strides=self.__strides[0],\n",
        "                             kernel_size=KERNEL_SIZE, padding=\"same\", kernel_initializer=INIT_SCHEME)\n",
        "        self.bn_1 = BatchNormalization()\n",
        "        self.conv_2 = Conv2D(self.__channels, strides=self.__strides[1],\n",
        "                             kernel_size=KERNEL_SIZE, padding=\"same\", kernel_initializer=INIT_SCHEME)\n",
        "        self.bn_2 = BatchNormalization()\n",
        "        self.merge = Add()\n",
        "\n",
        "        if self.__down_sample:\n",
        "            # perform down sampling using stride of 2, according to [1].\n",
        "            self.res_conv = Conv2D(\n",
        "                self.__channels, strides=2, kernel_size=(1, 1), kernel_initializer=INIT_SCHEME, padding=\"same\")\n",
        "            self.res_bn = BatchNormalization()\n",
        "\n",
        "#Bloque \"Skip Connection\"\n",
        "\n",
        "    def call(self, inputs):\n",
        "        res = inputs\n",
        "\n",
        "        x = self.conv_1(inputs)\n",
        "        x = self.bn_1(x)\n",
        "        x = tf.nn.relu(x)\n",
        "        x = self.conv_2(x)\n",
        "        x = self.bn_2(x)\n",
        "#Observar Tamaños de filtros, polling (entremedio)\n",
        "        if self.__down_sample:\n",
        "            res = self.res_conv(res)\n",
        "            res = self.res_bn(res)\n",
        "\n",
        "        # if not perform down sample, then add a shortcut directly\n",
        "        x = self.merge([x, res])\n",
        "        out = tf.nn.relu(x)\n",
        "        return out\n",
        "\n",
        "\n",
        "class ResNet18(Model):\n",
        "\n",
        "    def __init__(self, num_classes, **kwargs):\n",
        "        \"\"\"\n",
        "            num_classes: number of classes in specific classification task.\n",
        "        \"\"\"\n",
        "        super().__init__(**kwargs)\n",
        "        self.conv_1 = Conv2D(64, (7, 7), strides=2,\n",
        "                             padding=\"same\", kernel_initializer=\"he_normal\")\n",
        "        self.init_bn = BatchNormalization()\n",
        "        self.pool_2 = MaxPool2D(pool_size=(2, 2), strides=2, padding=\"same\")\n",
        "        self.res_1_1 = ResnetBlock(64)\n",
        "        self.res_1_2 = ResnetBlock(64)\n",
        "        self.res_2_1 = ResnetBlock(128, down_sample=True)\n",
        "        self.res_2_2 = ResnetBlock(128)\n",
        "        self.res_3_1 = ResnetBlock(256, down_sample=True)\n",
        "        self.res_3_2 = ResnetBlock(256)\n",
        "        self.res_4_1 = ResnetBlock(512, down_sample=True)\n",
        "        self.res_4_2 = ResnetBlock(512)\n",
        "        self.avg_pool = GlobalAveragePooling2D()\n",
        "        self.flat = Flatten()\n",
        "        self.fc = Dense(num_classes, activation=\"softmax\")\n",
        "\n",
        "    def call(self, inputs):\n",
        "        out = self.conv_1(inputs)\n",
        "        out = self.init_bn(out)\n",
        "        out = tf.nn.relu(out)\n",
        "        out = self.pool_2(out)\n",
        "        for res_block in [self.res_1_1, self.res_1_2, self.res_2_1, self.res_2_2, self.res_3_1, self.res_3_2, self.res_4_1, self.res_4_2]:\n",
        "            out = res_block(out)\n",
        "        out = self.avg_pool(out)\n",
        "        out = self.flat(out)\n",
        "        out = self.fc(out)\n",
        "        return out"
      ],
      "execution_count": null,
      "outputs": []
    },
    {
      "cell_type": "code",
      "metadata": {
        "colab": {
          "base_uri": "https://localhost:8080/"
        },
        "id": "FZ0nmZTcRBuH",
        "outputId": "a913c973-c236-4679-c07a-5da806b2d548"
      },
      "source": [
        "model = ResNet18(10)\n",
        "model.build(input_shape = (None,32,32,3))\n",
        "#use categorical_crossentropy since the label is one-hot encoded\n",
        "from tensorflow.keras.optimizers import SGD\n",
        "# opt = SGD(learning_rate=0.1,momentum=0.9,decay = 1e-04) #parameters suggested by He [1]\n",
        "model.compile(optimizer = \"adam\",loss='categorical_crossentropy', metrics=[\"accuracy\"]) \n",
        "model.summary()"
      ],
      "execution_count": null,
      "outputs": [
        {
          "output_type": "stream",
          "name": "stdout",
          "text": [
            "WARNING:tensorflow:AutoGraph could not transform <bound method ResnetBlock.call of <__main__.ResnetBlock object at 0x7f1ca16a0a50>> and will run it as-is.\n",
            "Cause: mangled names are not yet supported\n",
            "To silence this warning, decorate the function with @tf.autograph.experimental.do_not_convert\n",
            "WARNING: AutoGraph could not transform <bound method ResnetBlock.call of <__main__.ResnetBlock object at 0x7f1ca16a0a50>> and will run it as-is.\n",
            "Cause: mangled names are not yet supported\n",
            "To silence this warning, decorate the function with @tf.autograph.experimental.do_not_convert\n",
            "Model: \"res_net18\"\n",
            "_________________________________________________________________\n",
            "Layer (type)                 Output Shape              Param #   \n",
            "=================================================================\n",
            "conv2d (Conv2D)              multiple                  9472      \n",
            "_________________________________________________________________\n",
            "batch_normalization (BatchNo multiple                  256       \n",
            "_________________________________________________________________\n",
            "max_pooling2d (MaxPooling2D) multiple                  0         \n",
            "_________________________________________________________________\n",
            "resnet_block (ResnetBlock)   multiple                  74368     \n",
            "_________________________________________________________________\n",
            "resnet_block_1 (ResnetBlock) multiple                  74368     \n",
            "_________________________________________________________________\n",
            "resnet_block_2 (ResnetBlock) multiple                  231296    \n",
            "_________________________________________________________________\n",
            "resnet_block_3 (ResnetBlock) multiple                  296192    \n",
            "_________________________________________________________________\n",
            "resnet_block_4 (ResnetBlock) multiple                  921344    \n",
            "_________________________________________________________________\n",
            "resnet_block_5 (ResnetBlock) multiple                  1182208   \n",
            "_________________________________________________________________\n",
            "resnet_block_6 (ResnetBlock) multiple                  3677696   \n",
            "_________________________________________________________________\n",
            "resnet_block_7 (ResnetBlock) multiple                  4723712   \n",
            "_________________________________________________________________\n",
            "global_average_pooling2d (Gl multiple                  0         \n",
            "_________________________________________________________________\n",
            "flatten (Flatten)            multiple                  0         \n",
            "_________________________________________________________________\n",
            "dense (Dense)                multiple                  5130      \n",
            "=================================================================\n",
            "Total params: 11,196,042\n",
            "Trainable params: 11,186,442\n",
            "Non-trainable params: 9,600\n",
            "_________________________________________________________________\n"
          ]
        }
      ]
    },
    {
      "cell_type": "code",
      "metadata": {
        "colab": {
          "base_uri": "https://localhost:8080/"
        },
        "id": "byokwMX9RHar",
        "outputId": "6fd69e02-691d-4912-83f8-d6859f1c0a19"
      },
      "source": [
        "from keras.callbacks import EarlyStopping\n",
        "\n",
        "es = EarlyStopping(patience= 8, restore_best_weights=True, monitor=\"val_acc\")\n",
        "#I did not use cross validation, so the validate performance is not accurate.\n",
        "STEPS = len(X_train) / 256\n",
        "history = model.fit(aug.flow(X_train,Y_train,batch_size = 256), steps_per_epoch=STEPS, batch_size = 256, epochs=50, validation_data=(X_train, Y_train),callbacks=[es])"
      ],
      "execution_count": null,
      "outputs": [
        {
          "output_type": "stream",
          "name": "stdout",
          "text": [
            "Epoch 1/50\n",
            "156/156 [==============================] - 70s 232ms/step - loss: 1.6006 - accuracy: 0.4408 - val_loss: 2.4220 - val_accuracy: 0.2535\n",
            "WARNING:tensorflow:Early stopping conditioned on metric `val_acc` which is not available. Available metrics are: loss,accuracy,val_loss,val_accuracy\n",
            "Epoch 2/50\n",
            "156/156 [==============================] - 35s 222ms/step - loss: 1.2141 - accuracy: 0.5627 - val_loss: 1.4219 - val_accuracy: 0.4997\n",
            "WARNING:tensorflow:Early stopping conditioned on metric `val_acc` which is not available. Available metrics are: loss,accuracy,val_loss,val_accuracy\n",
            "Epoch 3/50\n",
            "156/156 [==============================] - 34s 219ms/step - loss: 1.0495 - accuracy: 0.6244 - val_loss: 1.5268 - val_accuracy: 0.5082\n",
            "WARNING:tensorflow:Early stopping conditioned on metric `val_acc` which is not available. Available metrics are: loss,accuracy,val_loss,val_accuracy\n",
            "Epoch 4/50\n",
            "156/156 [==============================] - 34s 220ms/step - loss: 0.9429 - accuracy: 0.6686 - val_loss: 1.0040 - val_accuracy: 0.6463\n",
            "WARNING:tensorflow:Early stopping conditioned on metric `val_acc` which is not available. Available metrics are: loss,accuracy,val_loss,val_accuracy\n",
            "Epoch 5/50\n",
            "156/156 [==============================] - 34s 220ms/step - loss: 0.8563 - accuracy: 0.6975 - val_loss: 0.9559 - val_accuracy: 0.6681\n",
            "WARNING:tensorflow:Early stopping conditioned on metric `val_acc` which is not available. Available metrics are: loss,accuracy,val_loss,val_accuracy\n",
            "Epoch 6/50\n",
            "156/156 [==============================] - 34s 221ms/step - loss: 0.7904 - accuracy: 0.7214 - val_loss: 1.0542 - val_accuracy: 0.6490\n",
            "WARNING:tensorflow:Early stopping conditioned on metric `val_acc` which is not available. Available metrics are: loss,accuracy,val_loss,val_accuracy\n",
            "Epoch 7/50\n",
            "156/156 [==============================] - 34s 220ms/step - loss: 0.7294 - accuracy: 0.7429 - val_loss: 1.5721 - val_accuracy: 0.5475\n",
            "WARNING:tensorflow:Early stopping conditioned on metric `val_acc` which is not available. Available metrics are: loss,accuracy,val_loss,val_accuracy\n",
            "Epoch 8/50\n",
            "156/156 [==============================] - 34s 220ms/step - loss: 0.6817 - accuracy: 0.7608 - val_loss: 1.2445 - val_accuracy: 0.5917\n",
            "WARNING:tensorflow:Early stopping conditioned on metric `val_acc` which is not available. Available metrics are: loss,accuracy,val_loss,val_accuracy\n",
            "Epoch 9/50\n",
            "156/156 [==============================] - 35s 221ms/step - loss: 0.6386 - accuracy: 0.7739 - val_loss: 0.7414 - val_accuracy: 0.7383\n",
            "WARNING:tensorflow:Early stopping conditioned on metric `val_acc` which is not available. Available metrics are: loss,accuracy,val_loss,val_accuracy\n",
            "Epoch 10/50\n",
            "156/156 [==============================] - 35s 222ms/step - loss: 0.6046 - accuracy: 0.7860 - val_loss: 0.7265 - val_accuracy: 0.7490\n",
            "WARNING:tensorflow:Early stopping conditioned on metric `val_acc` which is not available. Available metrics are: loss,accuracy,val_loss,val_accuracy\n",
            "Epoch 11/50\n",
            "156/156 [==============================] - 35s 222ms/step - loss: 0.5711 - accuracy: 0.7983 - val_loss: 0.5835 - val_accuracy: 0.7941\n",
            "WARNING:tensorflow:Early stopping conditioned on metric `val_acc` which is not available. Available metrics are: loss,accuracy,val_loss,val_accuracy\n",
            "Epoch 12/50\n",
            "156/156 [==============================] - 35s 222ms/step - loss: 0.5360 - accuracy: 0.8109 - val_loss: 0.7212 - val_accuracy: 0.7577\n",
            "WARNING:tensorflow:Early stopping conditioned on metric `val_acc` which is not available. Available metrics are: loss,accuracy,val_loss,val_accuracy\n",
            "Epoch 13/50\n",
            "156/156 [==============================] - 35s 224ms/step - loss: 0.5109 - accuracy: 0.8204 - val_loss: 0.5026 - val_accuracy: 0.8234\n",
            "WARNING:tensorflow:Early stopping conditioned on metric `val_acc` which is not available. Available metrics are: loss,accuracy,val_loss,val_accuracy\n",
            "Epoch 14/50\n",
            "156/156 [==============================] - 35s 223ms/step - loss: 0.4743 - accuracy: 0.8337 - val_loss: 0.6567 - val_accuracy: 0.7775\n",
            "WARNING:tensorflow:Early stopping conditioned on metric `val_acc` which is not available. Available metrics are: loss,accuracy,val_loss,val_accuracy\n",
            "Epoch 15/50\n",
            "156/156 [==============================] - 34s 219ms/step - loss: 0.4520 - accuracy: 0.8395 - val_loss: 0.5957 - val_accuracy: 0.7980\n",
            "WARNING:tensorflow:Early stopping conditioned on metric `val_acc` which is not available. Available metrics are: loss,accuracy,val_loss,val_accuracy\n",
            "Epoch 16/50\n",
            "156/156 [==============================] - 34s 219ms/step - loss: 0.4194 - accuracy: 0.8535 - val_loss: 0.5410 - val_accuracy: 0.8142\n",
            "WARNING:tensorflow:Early stopping conditioned on metric `val_acc` which is not available. Available metrics are: loss,accuracy,val_loss,val_accuracy\n",
            "Epoch 17/50\n",
            "156/156 [==============================] - 34s 220ms/step - loss: 0.4065 - accuracy: 0.8558 - val_loss: 0.4423 - val_accuracy: 0.8387\n",
            "WARNING:tensorflow:Early stopping conditioned on metric `val_acc` which is not available. Available metrics are: loss,accuracy,val_loss,val_accuracy\n",
            "Epoch 18/50\n",
            "156/156 [==============================] - 35s 221ms/step - loss: 0.3681 - accuracy: 0.8699 - val_loss: 0.5240 - val_accuracy: 0.8216\n",
            "WARNING:tensorflow:Early stopping conditioned on metric `val_acc` which is not available. Available metrics are: loss,accuracy,val_loss,val_accuracy\n",
            "Epoch 19/50\n",
            "156/156 [==============================] - 34s 218ms/step - loss: 0.3613 - accuracy: 0.8715 - val_loss: 0.4920 - val_accuracy: 0.8290\n",
            "WARNING:tensorflow:Early stopping conditioned on metric `val_acc` which is not available. Available metrics are: loss,accuracy,val_loss,val_accuracy\n",
            "Epoch 20/50\n",
            "156/156 [==============================] - 34s 219ms/step - loss: 0.3405 - accuracy: 0.8797 - val_loss: 0.4371 - val_accuracy: 0.8452\n",
            "WARNING:tensorflow:Early stopping conditioned on metric `val_acc` which is not available. Available metrics are: loss,accuracy,val_loss,val_accuracy\n",
            "Epoch 21/50\n",
            "156/156 [==============================] - 34s 221ms/step - loss: 0.3189 - accuracy: 0.8875 - val_loss: 0.3787 - val_accuracy: 0.8680\n",
            "WARNING:tensorflow:Early stopping conditioned on metric `val_acc` which is not available. Available metrics are: loss,accuracy,val_loss,val_accuracy\n",
            "Epoch 22/50\n",
            "156/156 [==============================] - 35s 222ms/step - loss: 0.3062 - accuracy: 0.8911 - val_loss: 0.4671 - val_accuracy: 0.8414\n",
            "WARNING:tensorflow:Early stopping conditioned on metric `val_acc` which is not available. Available metrics are: loss,accuracy,val_loss,val_accuracy\n",
            "Epoch 23/50\n",
            "156/156 [==============================] - 34s 220ms/step - loss: 0.2774 - accuracy: 0.9010 - val_loss: 0.3934 - val_accuracy: 0.8641\n",
            "WARNING:tensorflow:Early stopping conditioned on metric `val_acc` which is not available. Available metrics are: loss,accuracy,val_loss,val_accuracy\n",
            "Epoch 24/50\n",
            "156/156 [==============================] - 34s 219ms/step - loss: 0.2688 - accuracy: 0.9043 - val_loss: 0.3825 - val_accuracy: 0.8652\n",
            "WARNING:tensorflow:Early stopping conditioned on metric `val_acc` which is not available. Available metrics are: loss,accuracy,val_loss,val_accuracy\n",
            "Epoch 25/50\n",
            "156/156 [==============================] - 34s 219ms/step - loss: 0.2407 - accuracy: 0.9147 - val_loss: 0.3380 - val_accuracy: 0.8832\n",
            "WARNING:tensorflow:Early stopping conditioned on metric `val_acc` which is not available. Available metrics are: loss,accuracy,val_loss,val_accuracy\n",
            "Epoch 26/50\n",
            "156/156 [==============================] - 34s 218ms/step - loss: 0.2408 - accuracy: 0.9156 - val_loss: 0.2719 - val_accuracy: 0.9038\n",
            "WARNING:tensorflow:Early stopping conditioned on metric `val_acc` which is not available. Available metrics are: loss,accuracy,val_loss,val_accuracy\n",
            "Epoch 27/50\n",
            "156/156 [==============================] - 34s 220ms/step - loss: 0.2218 - accuracy: 0.9212 - val_loss: 0.3842 - val_accuracy: 0.8690\n",
            "WARNING:tensorflow:Early stopping conditioned on metric `val_acc` which is not available. Available metrics are: loss,accuracy,val_loss,val_accuracy\n",
            "Epoch 28/50\n",
            "156/156 [==============================] - 34s 219ms/step - loss: 0.2143 - accuracy: 0.9233 - val_loss: 0.2907 - val_accuracy: 0.8970\n",
            "WARNING:tensorflow:Early stopping conditioned on metric `val_acc` which is not available. Available metrics are: loss,accuracy,val_loss,val_accuracy\n",
            "Epoch 29/50\n",
            "156/156 [==============================] - 34s 216ms/step - loss: 0.2145 - accuracy: 0.9224 - val_loss: 0.5919 - val_accuracy: 0.8217\n",
            "WARNING:tensorflow:Early stopping conditioned on metric `val_acc` which is not available. Available metrics are: loss,accuracy,val_loss,val_accuracy\n",
            "Epoch 30/50\n",
            "156/156 [==============================] - 34s 220ms/step - loss: 0.1902 - accuracy: 0.9328 - val_loss: 0.4755 - val_accuracy: 0.8568\n",
            "WARNING:tensorflow:Early stopping conditioned on metric `val_acc` which is not available. Available metrics are: loss,accuracy,val_loss,val_accuracy\n",
            "Epoch 31/50\n",
            "156/156 [==============================] - 34s 219ms/step - loss: 0.1877 - accuracy: 0.9332 - val_loss: 0.2510 - val_accuracy: 0.9125\n",
            "WARNING:tensorflow:Early stopping conditioned on metric `val_acc` which is not available. Available metrics are: loss,accuracy,val_loss,val_accuracy\n",
            "Epoch 32/50\n",
            "156/156 [==============================] - 34s 218ms/step - loss: 0.1765 - accuracy: 0.9387 - val_loss: 0.3277 - val_accuracy: 0.8901\n",
            "WARNING:tensorflow:Early stopping conditioned on metric `val_acc` which is not available. Available metrics are: loss,accuracy,val_loss,val_accuracy\n",
            "Epoch 33/50\n",
            "156/156 [==============================] - 34s 220ms/step - loss: 0.1663 - accuracy: 0.9406 - val_loss: 0.3067 - val_accuracy: 0.9007\n",
            "WARNING:tensorflow:Early stopping conditioned on metric `val_acc` which is not available. Available metrics are: loss,accuracy,val_loss,val_accuracy\n",
            "Epoch 34/50\n",
            "156/156 [==============================] - 34s 220ms/step - loss: 0.1601 - accuracy: 0.9435 - val_loss: 0.2323 - val_accuracy: 0.9189\n",
            "WARNING:tensorflow:Early stopping conditioned on metric `val_acc` which is not available. Available metrics are: loss,accuracy,val_loss,val_accuracy\n",
            "Epoch 35/50\n",
            "156/156 [==============================] - 35s 221ms/step - loss: 0.1520 - accuracy: 0.9466 - val_loss: 0.1698 - val_accuracy: 0.9411\n",
            "WARNING:tensorflow:Early stopping conditioned on metric `val_acc` which is not available. Available metrics are: loss,accuracy,val_loss,val_accuracy\n",
            "Epoch 36/50\n",
            "156/156 [==============================] - 35s 222ms/step - loss: 0.1504 - accuracy: 0.9468 - val_loss: 0.2553 - val_accuracy: 0.9183\n",
            "WARNING:tensorflow:Early stopping conditioned on metric `val_acc` which is not available. Available metrics are: loss,accuracy,val_loss,val_accuracy\n",
            "Epoch 37/50\n",
            "156/156 [==============================] - 34s 220ms/step - loss: 0.1465 - accuracy: 0.9479 - val_loss: 0.1239 - val_accuracy: 0.9564\n",
            "WARNING:tensorflow:Early stopping conditioned on metric `val_acc` which is not available. Available metrics are: loss,accuracy,val_loss,val_accuracy\n",
            "Epoch 38/50\n",
            "156/156 [==============================] - 34s 218ms/step - loss: 0.1401 - accuracy: 0.9508 - val_loss: 0.3230 - val_accuracy: 0.8917\n",
            "WARNING:tensorflow:Early stopping conditioned on metric `val_acc` which is not available. Available metrics are: loss,accuracy,val_loss,val_accuracy\n",
            "Epoch 39/50\n",
            "156/156 [==============================] - 34s 219ms/step - loss: 0.1301 - accuracy: 0.9538 - val_loss: 0.1789 - val_accuracy: 0.9395\n",
            "WARNING:tensorflow:Early stopping conditioned on metric `val_acc` which is not available. Available metrics are: loss,accuracy,val_loss,val_accuracy\n",
            "Epoch 40/50\n",
            "156/156 [==============================] - 34s 219ms/step - loss: 0.1239 - accuracy: 0.9559 - val_loss: 0.1414 - val_accuracy: 0.9504\n",
            "WARNING:tensorflow:Early stopping conditioned on metric `val_acc` which is not available. Available metrics are: loss,accuracy,val_loss,val_accuracy\n",
            "Epoch 41/50\n",
            "156/156 [==============================] - 34s 220ms/step - loss: 0.1289 - accuracy: 0.9553 - val_loss: 0.3127 - val_accuracy: 0.9030\n",
            "WARNING:tensorflow:Early stopping conditioned on metric `val_acc` which is not available. Available metrics are: loss,accuracy,val_loss,val_accuracy\n",
            "Epoch 42/50\n",
            "156/156 [==============================] - 35s 221ms/step - loss: 0.1129 - accuracy: 0.9607 - val_loss: 0.1538 - val_accuracy: 0.9459\n",
            "WARNING:tensorflow:Early stopping conditioned on metric `val_acc` which is not available. Available metrics are: loss,accuracy,val_loss,val_accuracy\n",
            "Epoch 43/50\n",
            "156/156 [==============================] - 34s 219ms/step - loss: 0.1214 - accuracy: 0.9570 - val_loss: 0.2299 - val_accuracy: 0.9251\n",
            "WARNING:tensorflow:Early stopping conditioned on metric `val_acc` which is not available. Available metrics are: loss,accuracy,val_loss,val_accuracy\n",
            "Epoch 44/50\n",
            "156/156 [==============================] - 35s 221ms/step - loss: 0.1139 - accuracy: 0.9604 - val_loss: 0.3206 - val_accuracy: 0.8950\n",
            "WARNING:tensorflow:Early stopping conditioned on metric `val_acc` which is not available. Available metrics are: loss,accuracy,val_loss,val_accuracy\n",
            "Epoch 45/50\n",
            "156/156 [==============================] - 35s 221ms/step - loss: 0.1113 - accuracy: 0.9612 - val_loss: 0.1837 - val_accuracy: 0.9388\n",
            "WARNING:tensorflow:Early stopping conditioned on metric `val_acc` which is not available. Available metrics are: loss,accuracy,val_loss,val_accuracy\n",
            "Epoch 46/50\n",
            "156/156 [==============================] - 34s 220ms/step - loss: 0.1080 - accuracy: 0.9619 - val_loss: 0.3718 - val_accuracy: 0.8820\n",
            "WARNING:tensorflow:Early stopping conditioned on metric `val_acc` which is not available. Available metrics are: loss,accuracy,val_loss,val_accuracy\n",
            "Epoch 47/50\n",
            "156/156 [==============================] - 34s 220ms/step - loss: 0.1042 - accuracy: 0.9636 - val_loss: 0.3099 - val_accuracy: 0.9038\n",
            "WARNING:tensorflow:Early stopping conditioned on metric `val_acc` which is not available. Available metrics are: loss,accuracy,val_loss,val_accuracy\n",
            "Epoch 48/50\n",
            "156/156 [==============================] - 34s 220ms/step - loss: 0.1002 - accuracy: 0.9647 - val_loss: 0.4026 - val_accuracy: 0.8836\n",
            "WARNING:tensorflow:Early stopping conditioned on metric `val_acc` which is not available. Available metrics are: loss,accuracy,val_loss,val_accuracy\n",
            "Epoch 49/50\n",
            "156/156 [==============================] - 35s 226ms/step - loss: 0.1000 - accuracy: 0.9654 - val_loss: 0.1168 - val_accuracy: 0.9585\n",
            "WARNING:tensorflow:Early stopping conditioned on metric `val_acc` which is not available. Available metrics are: loss,accuracy,val_loss,val_accuracy\n",
            "Epoch 50/50\n",
            "156/156 [==============================] - 35s 222ms/step - loss: 0.0945 - accuracy: 0.9660 - val_loss: 0.2561 - val_accuracy: 0.9237\n",
            "WARNING:tensorflow:Early stopping conditioned on metric `val_acc` which is not available. Available metrics are: loss,accuracy,val_loss,val_accuracy\n"
          ]
        }
      ]
    },
    {
      "cell_type": "code",
      "metadata": {
        "id": "pz1fs24lRNAh",
        "colab": {
          "base_uri": "https://localhost:8080/",
          "height": 367
        },
        "outputId": "32710aec-01a7-4fc9-c0f6-2a3e76821c55"
      },
      "source": [
        "def plotmodelhistory(history): \n",
        "    fig, axs = plt.subplots(1,2,figsize=(15,5)) \n",
        "    # summarize history for accuracy\n",
        "    axs[0].plot(history.history['accuracy']) \n",
        "    axs[0].plot(history.history['val_accuracy']) \n",
        "    axs[0].set_title('Model Accuracy')\n",
        "    axs[0].set_ylabel('Accuracy') \n",
        "    axs[0].set_xlabel('Epoch')\n",
        "    \n",
        "    axs[0].legend(['train', 'validate'], loc='upper left')\n",
        "    # summarize history for loss\n",
        "    axs[1].plot(history.history['loss']) \n",
        "    axs[1].plot(history.history['val_loss']) \n",
        "    axs[1].set_title('Model Loss')\n",
        "    axs[1].set_ylabel('Loss') \n",
        "    axs[1].set_xlabel('Epoch')\n",
        "    axs[1].legend(['train', 'validate'], loc='upper left')\n",
        "    plt.show()\n",
        "\n",
        "# list all data in history\n",
        "print(history.history.keys())\n",
        "plotmodelhistory(history)"
      ],
      "execution_count": null,
      "outputs": [
        {
          "output_type": "stream",
          "name": "stdout",
          "text": [
            "dict_keys(['loss', 'accuracy', 'val_loss', 'val_accuracy'])\n"
          ]
        },
        {
          "output_type": "display_data",
          "data": {
            "image/png": "[encoded data removed]",
            "text/plain": [
              "<Figure size 1080x360 with 2 Axes>"
            ]
          },
          "metadata": {
            "needs_background": "light"
          }
        }
      ]
    },
    {
      "cell_type": "code",
      "metadata": {
        "id": "MQeR0ROuRV68",
        "colab": {
          "base_uri": "https://localhost:8080/"
        },
        "outputId": "52a6aa31-5cd4-4f54-c3df-6ce228ecde02"
      },
      "source": [
        "ModelLoss, ModelAccuracy = model.evaluate(X_train, Y_train)\n",
        "\n",
        "print('Model Loss is {}'.format(ModelLoss))\n",
        "print('Model Accuracy is {}'.format(ModelAccuracy))"
      ],
      "execution_count": null,
      "outputs": [
        {
          "output_type": "stream",
          "name": "stdout",
          "text": [
            "1250/1250 [==============================] - 18s 14ms/step - loss: 0.2561 - accuracy: 0.9237\n",
            "Model Loss is 0.2560764253139496\n",
            "Model Accuracy is 0.9236500263214111\n"
          ]
        }
      ]
    }
  ]
}