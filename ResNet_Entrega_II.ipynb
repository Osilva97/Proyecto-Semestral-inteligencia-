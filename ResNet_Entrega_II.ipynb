{
  "nbformat": 4,
  "nbformat_minor": 0,
  "metadata": {
    "accelerator": "GPU",
    "colab": {
      "name": "ResNet.ipynb",
      "provenance": [],
      "collapsed_sections": []
    },
    "kernelspec": {
      "display_name": "Python 3",
      "name": "python3"
    },
    "language_info": {
      "name": "python"
    }
  },
  "cells": [
    {
      "cell_type": "code",
      "metadata": {
        "colab": {
          "background_save": true
        },
        "id": "ztbBIjR8QSHY"
      },
      "source": [
        "import numpy as np\n",
        "import pandas as pd\n",
        "import matplotlib.pyplot as plt\n",
        "import tensorflow as tf\n",
        "import keras\n",
        "from tensorflow.keras import datasets,models,layers"
      ],
      "execution_count": null,
      "outputs": []
    },
    {
      "cell_type": "code",
      "metadata": {
        "colab": {
          "background_save": true
        },
        "id": "aNyN-WYFQbZq"
      },
      "source": [
        "from keras.datasets import cifar10\n",
        "(X_train, Y_train), (X_test, Y_test) = cifar10.load_data()"
      ],
      "execution_count": null,
      "outputs": []
    },
    {
      "cell_type": "code",
      "metadata": {
        "colab": {
          "base_uri": "https://localhost:8080/",
          "height": 283
        },
        "id": "9-AyIS2bQcIB",
        "outputId": "5f7a0f2e-8339-4f3f-c86d-5fb8c6fe673b"
      },
      "source": [
        "plt.imshow(X_train[42])"
      ],
      "execution_count": null,
      "outputs": [
        {
          "data": {
            "text/plain": [
              "<matplotlib.image.AxesImage at 0x7f060e422ed0>"
            ]
          },
          "execution_count": 7,
          "metadata": {},
          "output_type": "execute_result"
        },
        {
          "data": {
            "image/png": "[encoded data removed]",
            "text/plain": [
              "<Figure size 432x288 with 1 Axes>"
            ]
          },
          "metadata": {},
          "output_type": "display_data"
        }
      ]
    },
    {
      "cell_type": "code",
      "metadata": {
        "id": "PBk1V6qQQejm"
      },
      "source": [
        "X_train = X_train.astype('float32')\n",
        "X_test = X_test.astype('float32')\n",
        "X_train /= 255.0\n",
        "X_test /= 255.0"
      ],
      "execution_count": null,
      "outputs": []
    },
    {
      "cell_type": "code",
      "metadata": {
        "id": "OwT4fZ1PQhkh"
      },
      "source": [
        "from sklearn.model_selection import train_test_split\n",
        "X_train, X_val, Y_train, Y_val = train_test_split(X_train, Y_train, test_size = 0.2,shuffle = True)"
      ],
      "execution_count": null,
      "outputs": []
    },
    {
      "cell_type": "code",
      "metadata": {
        "id": "HrNOv_0NQmCK"
      },
      "source": [
        "from sklearn.preprocessing import OneHotEncoder\n",
        "encoder = OneHotEncoder()\n",
        "encoder.fit(Y_train)\n",
        "Y_train = encoder.transform(Y_train).toarray()\n",
        "Y_test = encoder.transform(Y_test).toarray()\n",
        "Y_val =  encoder.transform(Y_val).toarray()"
      ],
      "execution_count": null,
      "outputs": []
    },
    {
      "cell_type": "code",
      "metadata": {
        "id": "UQ2jByCSQpN9"
      },
      "source": [
        "from keras.preprocessing.image import ImageDataGenerator\n",
        "aug = ImageDataGenerator(horizontal_flip=True, width_shift_range=0.05,\n",
        "                             height_shift_range=0.05)\n",
        "aug.fit(X_train)"
      ],
      "execution_count": null,
      "outputs": []
    },
    {
      "cell_type": "markdown",
      "metadata": {
        "id": "Q8ItEcGIQs8x"
      },
      "source": [
        "Implementacion de la ResNet 18"
      ]
    },
    {
      "cell_type": "code",
      "metadata": {
        "id": "qeFKqlfXQsTD"
      },
      "source": [
        "from keras.callbacks import EarlyStopping\n",
        "from keras.layers import Dense, Conv2D,  MaxPool2D, Flatten, GlobalAveragePooling2D,  BatchNormalization, Layer, Add\n",
        "from keras.models import Sequential\n",
        "from keras.models import Model\n",
        "import tensorflow as tf\n"
      ],
      "execution_count": null,
      "outputs": []
    },
    {
      "cell_type": "code",
      "metadata": {
        "id": "Wf_1zuCIQ-Q3"
      },
      "source": [
        "class ResnetBlock(Model):\n",
        "    \"\"\"\n",
        "    A standard resnet block.\n",
        "    \"\"\"\n",
        "\n",
        "    def __init__(self, channels: int, down_sample=False):\n",
        "        \"\"\"\n",
        "        channels: same as number of convolution kernels\n",
        "        \"\"\"\n",
        "        super().__init__()\n",
        "\n",
        "        self.__channels = channels\n",
        "        self.__down_sample = down_sample\n",
        "        self.__strides = [2, 1] if down_sample else [1, 1]\n",
        "\n",
        "        KERNEL_SIZE = (3, 3)\n",
        "        # use He initialization, instead of Xavier (a.k.a 'glorot_uniform' in Keras), as suggested in [2]\n",
        "        INIT_SCHEME = \"he_normal\"\n",
        "\n",
        "        self.conv_1 = Conv2D(self.__channels, strides=self.__strides[0],\n",
        "                             kernel_size=KERNEL_SIZE, padding=\"same\", kernel_initializer=INIT_SCHEME)\n",
        "        self.bn_1 = BatchNormalization()\n",
        "        self.conv_2 = Conv2D(self.__channels, strides=self.__strides[1],\n",
        "                             kernel_size=KERNEL_SIZE, padding=\"same\", kernel_initializer=INIT_SCHEME)\n",
        "        self.bn_2 = BatchNormalization()\n",
        "        self.merge = Add()\n",
        "\n",
        "        if self.__down_sample:\n",
        "            # perform down sampling using stride of 2, according to [1].\n",
        "            self.res_conv = Conv2D(\n",
        "                self.__channels, strides=2, kernel_size=(1, 1), kernel_initializer=INIT_SCHEME, padding=\"same\")\n",
        "            self.res_bn = BatchNormalization()\n",
        "\n",
        "#Bloque \"Batch Normalizarion\"\n",
        "\n",
        "    def call(self, inputs):\n",
        "        res = inputs\n",
        "\n",
        "        x = self.conv_1(inputs)\n",
        "        x = self.bn_1(x)\n",
        "        x = tf.nn.relu(x)\n",
        "        x = self.conv_2(x)\n",
        "        x = self.bn_2(x)\n",
        "        \n",
        "#Observar Tamaños de filtros, polling (entremedio) \n",
        "        if self.__down_sample:\n",
        "            res = self.res_conv(res) \n",
        "            res = self.res_bn(res) \n",
        "\n",
        "        # if not perform down sample, then add a shortcut directly\n",
        "        x = self.merge([x, res])\n",
        "        out = tf.nn.relu(x)\n",
        "        return out\n",
        "\n",
        "\n",
        "class ResNet18(Model):\n",
        "\n",
        "    def __init__(self, num_classes, **kwargs):\n",
        "        \"\"\"\n",
        "            num_classes: number of classes in specific classification task.\n",
        "        \"\"\"\n",
        "        super().__init__(**kwargs)\n",
        "        self.conv_1 = Conv2D(64, (7, 7), strides=2,\n",
        "                             padding=\"same\", kernel_initializer=\"he_normal\")\n",
        "        self.init_bn = BatchNormalization()\n",
        "        self.pool_2 = MaxPool2D(pool_size=(2, 2), strides=2, padding=\"same\")\n",
        "        self.res_1_1 = ResnetBlock(64)\n",
        "        self.res_1_2 = ResnetBlock(64)\n",
        "        self.res_2_1 = ResnetBlock(128, down_sample=True)\n",
        "        self.res_2_2 = ResnetBlock(128)\n",
        "        self.res_3_1 = ResnetBlock(256, down_sample=True)\n",
        "        self.res_3_2 = ResnetBlock(256)\n",
        "        self.res_4_1 = ResnetBlock(256, down_sample=True)#capa añadida \n",
        "        self.res_4_2 = ResnetBlock(256)\n",
        "        self.res_5_1 = ResnetBlock(512, down_sample=True)\n",
        "        self.res_5_2 = ResnetBlock(512)\n",
        "        self.res_6_1 = ResnetBlock(256, down_sample=True)#capa añadida \n",
        "        self.res_6_2 = ResnetBlock(256)\n",
        "        self.res_7_1 = ResnetBlock(512, down_sample=True)#capa añadida\n",
        "        self.res_7_2 = ResnetBlock(512)\n",
        "        self.avg_pool = GlobalAveragePooling2D()\n",
        "        self.flat = Flatten()\n",
        "        self.fc = Dense(num_classes, activation=\"softmax\")\n",
        "\n",
        "    def call(self, inputs):\n",
        "        out = self.conv_1(inputs)\n",
        "        out = self.init_bn(out)\n",
        "        out = tf.nn.relu(out)\n",
        "        out = self.pool_2(out)\n",
        "        for res_block in [self.res_1_1, self.res_1_2, self.res_2_1, self.res_2_2, self.res_3_1, self.res_3_2, self.res_4_1, self.res_4_2]:\n",
        "            out = res_block(out)\n",
        "        out = self.avg_pool(out)\n",
        "        out = self.flat(out)\n",
        "        out = self.fc(out)\n",
        "        return out"
      ],
      "execution_count": null,
      "outputs": []
    },
    {
      "cell_type": "code",
      "metadata": {
        "colab": {
          "base_uri": "https://localhost:8080/"
        },
        "id": "FZ0nmZTcRBuH",
        "outputId": "3d7c5488-2917-49d9-c430-2d059f51efc3"
      },
      "source": [
        "model = ResNet18(10)\n",
        "model.build(input_shape = (None,32,32,3))\n",
        "#use categorical_crossentropy since the label is one-hot encoded\n",
        "from tensorflow.keras.optimizers import SGD\n",
        "# opt = SGD(learning_rate=0.1,momentum=0.9,decay = 1e-04) #parameters suggested by He [1]\n",
        "model.compile(optimizer = \"adam\",loss='categorical_crossentropy', metrics=[\"accuracy\"]) \n",
        "model.summary()"
      ],
      "execution_count": null,
      "outputs": [
        {
          "name": "stdout",
          "output_type": "stream",
          "text": [
            "WARNING:tensorflow:AutoGraph could not transform <bound method ResnetBlock.call of <__main__.ResnetBlock object at 0x7f051e151110>> and will run it as-is.\n",
            "Cause: mangled names are not yet supported\n",
            "To silence this warning, decorate the function with @tf.autograph.experimental.do_not_convert\n",
            "WARNING: AutoGraph could not transform <bound method ResnetBlock.call of <__main__.ResnetBlock object at 0x7f051e151110>> and will run it as-is.\n",
            "Cause: mangled names are not yet supported\n",
            "To silence this warning, decorate the function with @tf.autograph.experimental.do_not_convert\n",
            "Model: \"res_net18_1\"\n",
            "_________________________________________________________________\n",
            " Layer (type)                Output Shape              Param #   \n",
            "=================================================================\n",
            " conv2d_35 (Conv2D)          multiple                  9472      \n",
            "                                                                 \n",
            " batch_normalization_35 (Bat  multiple                 256       \n",
            " chNormalization)                                                \n",
            "                                                                 \n",
            " max_pooling2d_1 (MaxPooling  multiple                 0         \n",
            " 2D)                                                             \n",
            "                                                                 \n",
            " resnet_block_14 (ResnetBloc  multiple                 73856     \n",
            " k)                                                              \n",
            "                                                                 \n",
            " resnet_block_15 (ResnetBloc  multiple                 73856     \n",
            " k)                                                              \n",
            "                                                                 \n",
            " resnet_block_16 (ResnetBloc  multiple                 230272    \n",
            " k)                                                              \n",
            "                                                                 \n",
            " resnet_block_17 (ResnetBloc  multiple                 295168    \n",
            " k)                                                              \n",
            "                                                                 \n",
            " resnet_block_18 (ResnetBloc  multiple                 919296    \n",
            " k)                                                              \n",
            "                                                                 \n",
            " resnet_block_19 (ResnetBloc  multiple                 1180160   \n",
            " k)                                                              \n",
            "                                                                 \n",
            " resnet_block_20 (ResnetBloc  multiple                 1246976   \n",
            " k)                                                              \n",
            "                                                                 \n",
            " resnet_block_21 (ResnetBloc  multiple                 1180160   \n",
            " k)                                                              \n",
            "                                                                 \n",
            " resnet_block_22 (ResnetBloc  multiple                 0 (unused)\n",
            " k)                                                              \n",
            "                                                                 \n",
            " resnet_block_23 (ResnetBloc  multiple                 0 (unused)\n",
            " k)                                                              \n",
            "                                                                 \n",
            " resnet_block_24 (ResnetBloc  multiple                 0 (unused)\n",
            " k)                                                              \n",
            "                                                                 \n",
            " resnet_block_25 (ResnetBloc  multiple                 0 (unused)\n",
            " k)                                                              \n",
            "                                                                 \n",
            " resnet_block_26 (ResnetBloc  multiple                 0 (unused)\n",
            " k)                                                              \n",
            "                                                                 \n",
            " resnet_block_27 (ResnetBloc  multiple                 0 (unused)\n",
            " k)                                                              \n",
            "                                                                 \n",
            " global_average_pooling2d_1   multiple                 0         \n",
            " (GlobalAveragePooling2D)                                        \n",
            "                                                                 \n",
            " flatten_1 (Flatten)         multiple                  0         \n",
            "                                                                 \n",
            " dense_1 (Dense)             multiple                  2570      \n",
            "                                                                 \n",
            "=================================================================\n",
            "Total params: 5,212,042\n",
            "Trainable params: 5,210,634\n",
            "Non-trainable params: 1,408\n",
            "_________________________________________________________________\n"
          ]
        }
      ]
    },
    {
      "cell_type": "code",
      "metadata": {
        "colab": {
          "base_uri": "https://localhost:8080/"
        },
        "id": "byokwMX9RHar",
        "outputId": "5a27b0ef-06b6-4141-87ba-94901c886f04"
      },
      "source": [
        "from keras.callbacks import EarlyStopping\n",
        "\n",
        "es = EarlyStopping(patience= 8, restore_best_weights=True, monitor=\"val_acc\")\n",
        "#I did not use cross validation, so the validate performance is not accurate.\n",
        "STEPS = len(X_train) / 256\n",
        "history = model.fit(aug.flow(X_train,Y_train,batch_size = 256), steps_per_epoch=STEPS, batch_size = 256, epochs=50, validation_data=(X_train, Y_train),callbacks=[es])"
      ],
      "execution_count": null,
      "outputs": [
        {
          "name": "stdout",
          "output_type": "stream",
          "text": [
            "Epoch 1/50\n",
            "157/156 [==============================] - ETA: 0s - loss: 1.5628 - accuracy: 0.4360WARNING:tensorflow:Early stopping conditioned on metric `val_acc` which is not available. Available metrics are: loss,accuracy,val_loss,val_accuracy\n",
            "156/156 [==============================] - 34s 207ms/step - loss: 1.5628 - accuracy: 0.4360 - val_loss: 1.8234 - val_accuracy: 0.3438\n",
            "Epoch 2/50\n",
            "157/156 [==============================] - ETA: 0s - loss: 1.2429 - accuracy: 0.5524WARNING:tensorflow:Early stopping conditioned on metric `val_acc` which is not available. Available metrics are: loss,accuracy,val_loss,val_accuracy\n",
            "156/156 [==============================] - 31s 197ms/step - loss: 1.2429 - accuracy: 0.5524 - val_loss: 1.6189 - val_accuracy: 0.4599\n",
            "Epoch 3/50\n",
            "157/156 [==============================] - ETA: 0s - loss: 1.0901 - accuracy: 0.6112WARNING:tensorflow:Early stopping conditioned on metric `val_acc` which is not available. Available metrics are: loss,accuracy,val_loss,val_accuracy\n",
            "156/156 [==============================] - 30s 194ms/step - loss: 1.0901 - accuracy: 0.6112 - val_loss: 1.1530 - val_accuracy: 0.5919\n",
            "Epoch 4/50\n",
            "157/156 [==============================] - ETA: 0s - loss: 0.9994 - accuracy: 0.6450WARNING:tensorflow:Early stopping conditioned on metric `val_acc` which is not available. Available metrics are: loss,accuracy,val_loss,val_accuracy\n",
            "156/156 [==============================] - 33s 214ms/step - loss: 0.9994 - accuracy: 0.6450 - val_loss: 1.2109 - val_accuracy: 0.5831\n",
            "Epoch 5/50\n",
            "157/156 [==============================] - ETA: 0s - loss: 0.9183 - accuracy: 0.6747WARNING:tensorflow:Early stopping conditioned on metric `val_acc` which is not available. Available metrics are: loss,accuracy,val_loss,val_accuracy\n",
            "156/156 [==============================] - 31s 197ms/step - loss: 0.9183 - accuracy: 0.6747 - val_loss: 1.0833 - val_accuracy: 0.6237\n",
            "Epoch 6/50\n",
            "157/156 [==============================] - ETA: 0s - loss: 0.8735 - accuracy: 0.6885WARNING:tensorflow:Early stopping conditioned on metric `val_acc` which is not available. Available metrics are: loss,accuracy,val_loss,val_accuracy\n",
            "156/156 [==============================] - 30s 195ms/step - loss: 0.8735 - accuracy: 0.6885 - val_loss: 0.9689 - val_accuracy: 0.6519\n",
            "Epoch 7/50\n",
            "157/156 [==============================] - ETA: 0s - loss: 0.8167 - accuracy: 0.7127WARNING:tensorflow:Early stopping conditioned on metric `val_acc` which is not available. Available metrics are: loss,accuracy,val_loss,val_accuracy\n",
            "156/156 [==============================] - 32s 203ms/step - loss: 0.8167 - accuracy: 0.7127 - val_loss: 0.7452 - val_accuracy: 0.7398\n",
            "Epoch 8/50\n",
            "157/156 [==============================] - ETA: 0s - loss: 0.7705 - accuracy: 0.7269WARNING:tensorflow:Early stopping conditioned on metric `val_acc` which is not available. Available metrics are: loss,accuracy,val_loss,val_accuracy\n",
            "156/156 [==============================] - 31s 198ms/step - loss: 0.7705 - accuracy: 0.7269 - val_loss: 0.8226 - val_accuracy: 0.7103\n",
            "Epoch 9/50\n",
            "157/156 [==============================] - ETA: 0s - loss: 0.7323 - accuracy: 0.7410WARNING:tensorflow:Early stopping conditioned on metric `val_acc` which is not available. Available metrics are: loss,accuracy,val_loss,val_accuracy\n",
            "156/156 [==============================] - 31s 196ms/step - loss: 0.7323 - accuracy: 0.7410 - val_loss: 0.7541 - val_accuracy: 0.7363\n",
            "Epoch 10/50\n",
            "157/156 [==============================] - ETA: 0s - loss: 0.6894 - accuracy: 0.7571WARNING:tensorflow:Early stopping conditioned on metric `val_acc` which is not available. Available metrics are: loss,accuracy,val_loss,val_accuracy\n",
            "156/156 [==============================] - 31s 200ms/step - loss: 0.6894 - accuracy: 0.7571 - val_loss: 0.8456 - val_accuracy: 0.7058\n",
            "Epoch 11/50\n",
            "157/156 [==============================] - ETA: 0s - loss: 0.6637 - accuracy: 0.7688WARNING:tensorflow:Early stopping conditioned on metric `val_acc` which is not available. Available metrics are: loss,accuracy,val_loss,val_accuracy\n",
            "156/156 [==============================] - 33s 208ms/step - loss: 0.6637 - accuracy: 0.7688 - val_loss: 0.7228 - val_accuracy: 0.7484\n",
            "Epoch 12/50\n",
            "157/156 [==============================] - ETA: 0s - loss: 0.6304 - accuracy: 0.7778WARNING:tensorflow:Early stopping conditioned on metric `val_acc` which is not available. Available metrics are: loss,accuracy,val_loss,val_accuracy\n",
            "156/156 [==============================] - 32s 205ms/step - loss: 0.6304 - accuracy: 0.7778 - val_loss: 0.8581 - val_accuracy: 0.7102\n",
            "Epoch 13/50\n",
            "157/156 [==============================] - ETA: 0s - loss: 0.6022 - accuracy: 0.7863WARNING:tensorflow:Early stopping conditioned on metric `val_acc` which is not available. Available metrics are: loss,accuracy,val_loss,val_accuracy\n",
            "156/156 [==============================] - 31s 201ms/step - loss: 0.6022 - accuracy: 0.7863 - val_loss: 0.7375 - val_accuracy: 0.7463\n",
            "Epoch 14/50\n",
            "157/156 [==============================] - ETA: 0s - loss: 0.5791 - accuracy: 0.7976WARNING:tensorflow:Early stopping conditioned on metric `val_acc` which is not available. Available metrics are: loss,accuracy,val_loss,val_accuracy\n",
            "156/156 [==============================] - 32s 205ms/step - loss: 0.5791 - accuracy: 0.7976 - val_loss: 0.5539 - val_accuracy: 0.8052\n",
            "Epoch 15/50\n",
            "157/156 [==============================] - ETA: 0s - loss: 0.5583 - accuracy: 0.8032WARNING:tensorflow:Early stopping conditioned on metric `val_acc` which is not available. Available metrics are: loss,accuracy,val_loss,val_accuracy\n",
            "156/156 [==============================] - 30s 194ms/step - loss: 0.5583 - accuracy: 0.8032 - val_loss: 0.4914 - val_accuracy: 0.8282\n",
            "Epoch 16/50\n",
            "157/156 [==============================] - ETA: 0s - loss: 0.5353 - accuracy: 0.8128WARNING:tensorflow:Early stopping conditioned on metric `val_acc` which is not available. Available metrics are: loss,accuracy,val_loss,val_accuracy\n",
            "156/156 [==============================] - 31s 199ms/step - loss: 0.5353 - accuracy: 0.8128 - val_loss: 0.6075 - val_accuracy: 0.7857\n",
            "Epoch 17/50\n",
            "157/156 [==============================] - ETA: 0s - loss: 0.5083 - accuracy: 0.8192WARNING:tensorflow:Early stopping conditioned on metric `val_acc` which is not available. Available metrics are: loss,accuracy,val_loss,val_accuracy\n",
            "156/156 [==============================] - 30s 193ms/step - loss: 0.5083 - accuracy: 0.8192 - val_loss: 0.6074 - val_accuracy: 0.7897\n",
            "Epoch 18/50\n",
            "157/156 [==============================] - ETA: 0s - loss: 0.4912 - accuracy: 0.8260WARNING:tensorflow:Early stopping conditioned on metric `val_acc` which is not available. Available metrics are: loss,accuracy,val_loss,val_accuracy\n",
            "156/156 [==============================] - 31s 200ms/step - loss: 0.4912 - accuracy: 0.8260 - val_loss: 0.5371 - val_accuracy: 0.8101\n",
            "Epoch 19/50\n",
            "157/156 [==============================] - ETA: 0s - loss: 0.4689 - accuracy: 0.8356WARNING:tensorflow:Early stopping conditioned on metric `val_acc` which is not available. Available metrics are: loss,accuracy,val_loss,val_accuracy\n",
            "156/156 [==============================] - 30s 194ms/step - loss: 0.4689 - accuracy: 0.8356 - val_loss: 0.4931 - val_accuracy: 0.8294\n",
            "Epoch 20/50\n",
            "157/156 [==============================] - ETA: 0s - loss: 0.4526 - accuracy: 0.8399WARNING:tensorflow:Early stopping conditioned on metric `val_acc` which is not available. Available metrics are: loss,accuracy,val_loss,val_accuracy\n",
            "156/156 [==============================] - 32s 204ms/step - loss: 0.4526 - accuracy: 0.8399 - val_loss: 0.5150 - val_accuracy: 0.8192\n",
            "Epoch 21/50\n",
            " 77/156 [=============>................] - ETA: 13s - loss: 0.4314 - accuracy: 0.8482"
          ]
        }
      ]
    },
    {
      "cell_type": "code",
      "metadata": {
        "colab": {
          "base_uri": "https://localhost:8080/",
          "height": 367
        },
        "id": "pz1fs24lRNAh",
        "outputId": "762c0123-d3a3-486b-c086-4c3427a6fcf7"
      },
      "source": [
        "def plotmodelhistory(history): \n",
        "    fig, axs = plt.subplots(1,2,figsize=(15,5)) \n",
        "    # summarize history for accuracy\n",
        "    axs[0].plot(history.history['accuracy']) \n",
        "    axs[0].plot(history.history['val_accuracy']) \n",
        "    axs[0].set_title('Model Accuracy')\n",
        "    axs[0].set_ylabel('Accuracy') \n",
        "    axs[0].set_xlabel('Epoch')\n",
        "    \n",
        "    axs[0].legend(['train', 'validate'], loc='upper left')\n",
        "    # summarize history for loss\n",
        "    axs[1].plot(history.history['loss']) \n",
        "    axs[1].plot(history.history['val_loss']) \n",
        "    axs[1].set_title('Model Loss')\n",
        "    axs[1].set_ylabel('Loss') \n",
        "    axs[1].set_xlabel('Epoch')\n",
        "    axs[1].legend(['train', 'validate'], loc='upper left')\n",
        "    plt.show()\n",
        "\n",
        "# list all data in history\n",
        "print(history.history.keys())\n",
        "plotmodelhistory(history)"
      ],
      "execution_count": null,
      "outputs": [
        {
          "name": "stdout",
          "output_type": "stream",
          "text": [
            "dict_keys(['loss', 'accuracy', 'val_loss', 'val_accuracy'])\n"
          ]
        },
        {
          "data": {
            "image/png": "[encoded data removed]",
            "text/plain": [
              "<Figure size 1080x360 with 2 Axes>"
            ]
          },
          "metadata": {},
          "output_type": "display_data"
        }
      ]
    },
    {
      "cell_type": "code",
      "metadata": {
        "colab": {
          "base_uri": "https://localhost:8080/"
        },
        "id": "MQeR0ROuRV68",
        "outputId": "1c9d2252-cbd8-4851-f60c-a2c03c7aad8d"
      },
      "source": [
        "ModelLoss, ModelAccuracy = model.evaluate(X_train, Y_train)\n",
        "\n",
        "print('Model Loss is {}'.format(ModelLoss))\n",
        "print('Model Accuracy is {}'.format(ModelAccuracy))"
      ],
      "execution_count": null,
      "outputs": [
        {
          "name": "stdout",
          "output_type": "stream",
          "text": [
            "1250/1250 [==============================] - 14s 11ms/step - loss: 0.0403 - accuracy: 0.9863\n",
            "Model Loss is 0.04030319303274155\n",
            "Model Accuracy is 0.9863499999046326\n"
          ]
        }
      ]
    }
  ]
}